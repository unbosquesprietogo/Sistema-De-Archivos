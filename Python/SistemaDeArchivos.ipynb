{
 "cells": [
  {
   "cell_type": "code",
   "execution_count": 3,
   "id": "c29fd543",
   "metadata": {},
   "outputs": [
    {
     "data": {
      "text/plain": [
       "'1.4.2'"
      ]
     },
     "execution_count": 3,
     "metadata": {},
     "output_type": "execute_result"
    }
   ],
   "source": [
    "import pandas as pd\n",
    "from pandas_profiling import ProfileReport\n",
    "pd.__version__"
   ]
  },
  {
   "cell_type": "code",
   "execution_count": 4,
   "id": "6ae2caa0",
   "metadata": {},
   "outputs": [],
   "source": [
    "import glob\n",
    "import os\n",
    "\n",
    "list_of_files = glob.glob('../src/resources/*.txt') \n",
    "latest_file = max(list_of_files, key=os.path.getctime)"
   ]
  },
  {
   "cell_type": "code",
   "execution_count": 5,
   "id": "2573d79b",
   "metadata": {},
   "outputs": [],
   "source": [
    "ruta = latest_file\n",
    "df = pd.read_csv(ruta, sep = \",\")"
   ]
  },
  {
   "cell_type": "code",
   "execution_count": 6,
   "id": "94e61915",
   "metadata": {},
   "outputs": [
    {
     "name": "stdout",
     "output_type": "stream",
     "text": [
      "['DEPTO_HECHO' 'MUNICIPIO_HECHO' 'FECHA_HECHO' 'BARRIOS_HECHO'\n",
      " 'DESCRIPCION_CONDUCTA' 'MODALIDAD' 'CLASE_SITIO' 'ZONA' 'GENERO'\n",
      " 'PAIS_PERSONA' 'CARGO_PERSONA' 'EDAD' '2020']\n"
     ]
    }
   ],
   "source": [
    "columns_names = df.columns.values\n",
    "print (columns_names)"
   ]
  },
  {
   "cell_type": "code",
   "execution_count": 11,
   "id": "4b1cb125",
   "metadata": {
    "scrolled": true
   },
   "outputs": [
    {
     "name": "stdout",
     "output_type": "stream",
     "text": [
      "URBANA    216\n",
      "RURAL      24\n",
      "Name: ZONA, dtype: int64 MAGDALENA       51\n",
      "BOLÍVAR         48\n",
      "ANTIOQUIA       43\n",
      "CUNDINAMARCA    33\n",
      "VALLE           16\n",
      "META            14\n",
      "QUINDÍO          8\n",
      "GUAJIRA          8\n",
      "SAN ANDRÉS       7\n",
      "ATLÁNTICO        6\n",
      "SUCRE            4\n",
      "CALDAS           1\n",
      "HUILA            1\n",
      "Name: DEPTO_HECHO, dtype: int64\n"
     ]
    }
   ],
   "source": [
    "crime_by_gender = df[columns_names[8]].value_counts()\n",
    "crime_by_area = df[columns_names[7]].value_counts()\n",
    "crime_by_deparment = df[columns_names[0]].value_counts()\n",
    "crime_by_age = df[columns_names[11]].value_counts()\n",
    "print (crime_by_area crime_by_deparment)"
   ]
  },
  {
   "cell_type": "code",
   "execution_count": 10,
   "id": "2d240198",
   "metadata": {
    "scrolled": true
   },
   "outputs": [
    {
     "data": {
      "application/vnd.jupyter.widget-view+json": {
       "model_id": "93feaa7a895646cc81a7182bb510209a",
       "version_major": 2,
       "version_minor": 0
      },
      "text/plain": [
       "Summarize dataset:   0%|          | 0/5 [00:00<?, ?it/s]"
      ]
     },
     "metadata": {},
     "output_type": "display_data"
    },
    {
     "data": {
      "application/vnd.jupyter.widget-view+json": {
       "model_id": "e5638583a47f449888e2451eb242d4cd",
       "version_major": 2,
       "version_minor": 0
      },
      "text/plain": [
       "Generate report structure:   0%|          | 0/1 [00:00<?, ?it/s]"
      ]
     },
     "metadata": {},
     "output_type": "display_data"
    },
    {
     "data": {
      "application/vnd.jupyter.widget-view+json": {
       "model_id": "05f3277d1a5d45d79a0c3edcda324b34",
       "version_major": 2,
       "version_minor": 0
      },
      "text/plain": [
       "Render HTML:   0%|          | 0/1 [00:00<?, ?it/s]"
      ]
     },
     "metadata": {},
     "output_type": "display_data"
    },
    {
     "data": {
      "application/vnd.jupyter.widget-view+json": {
       "model_id": "a0b0563aadb2496e90e64441b09cd6a5",
       "version_major": 2,
       "version_minor": 0
      },
      "text/plain": [
       "Export report to file:   0%|          | 0/1 [00:00<?, ?it/s]"
      ]
     },
     "metadata": {},
     "output_type": "display_data"
    }
   ],
   "source": [
    "profile = ProfileReport(df, title=\"Crime Report\")\n",
    "profile.to_file(\"crime_report.html\")\n"
   ]
  },
  {
   "cell_type": "code",
   "execution_count": null,
   "id": "84f45688",
   "metadata": {},
   "outputs": [],
   "source": []
  }
 ],
 "metadata": {
  "kernelspec": {
   "display_name": "Python 3 (ipykernel)",
   "language": "python",
   "name": "python3"
  },
  "language_info": {
   "codemirror_mode": {
    "name": "ipython",
    "version": 3
   },
   "file_extension": ".py",
   "mimetype": "text/x-python",
   "name": "python",
   "nbconvert_exporter": "python",
   "pygments_lexer": "ipython3",
   "version": "3.9.12"
  },
  "vscode": {
   "interpreter": {
    "hash": "ad2bdc8ecc057115af97d19610ffacc2b4e99fae6737bb82f5d7fb13d2f2c186"
   }
  }
 },
 "nbformat": 4,
 "nbformat_minor": 5
}
